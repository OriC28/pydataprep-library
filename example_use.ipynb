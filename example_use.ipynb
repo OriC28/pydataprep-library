{
 "cells": [
  {
   "cell_type": "code",
   "execution_count": 7,
   "id": "fa72de0e",
   "metadata": {},
   "outputs": [
    {
     "name": "stdout",
     "output_type": "stream",
     "text": [
      "    Category\n",
      "0          0\n",
      "1          1\n",
      "2          1\n",
      "3          0\n",
      "4          1\n",
      "5          1\n",
      "6          0\n",
      "7          0\n",
      "8          1\n",
      "9          1\n",
      "10         1\n",
      "11         2\n"
     ]
    }
   ],
   "source": [
    "from pydataprep import cleaning as cl\n",
    "from pydataprep import preprocessing as pr\n",
    "import pandas as pd\n",
    "\n",
    "\n",
    "df = pd.read_excel(\"./data/datatest.xlsx\")\n",
    "# print(cl.remove_duplicates(df))\n",
    "print(pr.encode_categorical(df[\"Sexo\"], \"label\"))\n"
   ]
  }
 ],
 "metadata": {
  "kernelspec": {
   "display_name": ".venv",
   "language": "python",
   "name": "python3"
  },
  "language_info": {
   "codemirror_mode": {
    "name": "ipython",
    "version": 3
   },
   "file_extension": ".py",
   "mimetype": "text/x-python",
   "name": "python",
   "nbconvert_exporter": "python",
   "pygments_lexer": "ipython3",
   "version": "3.13.6"
  }
 },
 "nbformat": 4,
 "nbformat_minor": 5
}
