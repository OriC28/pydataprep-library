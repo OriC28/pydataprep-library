{
 "cells": [
  {
   "cell_type": "code",
   "execution_count": null,
   "id": "252b7a95",
   "metadata": {},
   "outputs": [],
   "source": [
    "import pandas as pd\n",
    "import numpy as np\n",
    "\n",
    "from pydataprep.preprocessing import encode_categorical, scale_numerical\n",
    "\n",
    "df_data = pd.DataFrame({'ID': [1, 2, 3, 4], 'Name': ['Pamela', 'Raúl', 'José', 'Ana'], 'Age': [np.nan, 14, 26, 14], 'Sex': [\n",
    "            'Feminine', 'Masculine', 'Masculine', 'Feminine'], 'City': [np.nan, 'Paris', np.nan, np.nan]})\n",
    "\n",
    "df_animal = pd.DataFrame({'Animal': [\n",
    "    'Dog', 'Cat', 'Bird', 'Dog', 'Fish']})"
   ]
  },
  {
   "cell_type": "markdown",
   "id": "e1c8f128",
   "metadata": {},
   "source": [
    "### Use one-hot encoding"
   ]
  },
  {
   "cell_type": "code",
   "execution_count": null,
   "id": "c11e5d71",
   "metadata": {},
   "outputs": [],
   "source": [
    "encode_categorical(df_animal) # one-hot method is default"
   ]
  },
  {
   "cell_type": "markdown",
   "id": "8d2410e9",
   "metadata": {},
   "source": [
    "### Use label-encoding"
   ]
  },
  {
   "cell_type": "code",
   "execution_count": null,
   "id": "69ecd02f",
   "metadata": {},
   "outputs": [],
   "source": [
    "encode_categorical(df_animal, method='label')"
   ]
  },
  {
   "cell_type": "markdown",
   "id": "27fa1486",
   "metadata": {},
   "source": [
    "### Scale numeric with min-max technique"
   ]
  },
  {
   "cell_type": "code",
   "execution_count": null,
   "id": "f2ea84c3",
   "metadata": {},
   "outputs": [],
   "source": [
    "scale_numerical(df_data, columns=['Age']) # min-max technique is default"
   ]
  },
  {
   "cell_type": "markdown",
   "id": "f53cdbe1",
   "metadata": {},
   "source": [
    "### Scale numeric with standard technique"
   ]
  },
  {
   "cell_type": "code",
   "execution_count": null,
   "id": "6016b6b5",
   "metadata": {},
   "outputs": [],
   "source": [
    "scale_numerical(df_data, columns=['Age'], technique='standard')"
   ]
  }
 ],
 "metadata": {
  "language_info": {
   "name": "python"
  }
 },
 "nbformat": 4,
 "nbformat_minor": 5
}
