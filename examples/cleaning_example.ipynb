{
 "cells": [
  {
   "cell_type": "code",
   "execution_count": null,
   "id": "a31cf773",
   "metadata": {},
   "outputs": [],
   "source": [
    "import pandas as pd\n",
    "import numpy as np\n",
    "\n",
    "from pydataprep.cleaning import handle_missing_values, remove_duplicates\n",
    "\n",
    "df = pd.DataFrame({'ID': [1, 2, 3, 4], 'Name': ['Pamela', 'Raúl', 'José', 'Ana'], 'Age': [np.nan, 14, 26, 14], 'Sex': [\n",
    "            'Feminine', 'Masculine', 'Masculine', 'Feminine'], 'City': [np.nan, 'Paris', np.nan, np.nan]})"
   ]
  },
  {
   "cell_type": "markdown",
   "id": "0bcd70f7",
   "metadata": {},
   "source": [
    "### Remove all rows with at least one null value"
   ]
  },
  {
   "cell_type": "code",
   "execution_count": null,
   "id": "84e13877",
   "metadata": {},
   "outputs": [],
   "source": [
    "df1 = handle_missing_values(df, 'drop_rows')"
   ]
  },
  {
   "cell_type": "markdown",
   "id": "df08256a",
   "metadata": {},
   "source": [
    "### Remove all columns with al least one null value"
   ]
  },
  {
   "cell_type": "code",
   "execution_count": null,
   "id": "2eefb60a",
   "metadata": {},
   "outputs": [],
   "source": [
    "df2 = handle_missing_values(df, 'drop_cols')"
   ]
  },
  {
   "cell_type": "markdown",
   "id": "14f062f0",
   "metadata": {},
   "source": [
    "### Fill all null values with specified value"
   ]
  },
  {
   "cell_type": "code",
   "execution_count": null,
   "id": "4e4ee628",
   "metadata": {},
   "outputs": [],
   "source": [
    "df3 = handle_missing_values(df, 'any_value')"
   ]
  },
  {
   "cell_type": "markdown",
   "id": "0d336f2f",
   "metadata": {},
   "source": [
    "### Replace all null values with the column average"
   ]
  },
  {
   "cell_type": "code",
   "execution_count": null,
   "id": "a282da90",
   "metadata": {},
   "outputs": [],
   "source": [
    "df_mean = handle_missing_values(df, 'mean')"
   ]
  },
  {
   "cell_type": "markdown",
   "id": "e95b4e91",
   "metadata": {},
   "source": [
    "### Replace all null values with the column median"
   ]
  },
  {
   "cell_type": "code",
   "execution_count": null,
   "id": "dc6ea52a",
   "metadata": {},
   "outputs": [],
   "source": [
    "df_median = handle_missing_values(df, 'median')"
   ]
  },
  {
   "cell_type": "markdown",
   "id": "ed92be3e",
   "metadata": {},
   "source": [
    "### Replace all null values with the column mode"
   ]
  },
  {
   "cell_type": "code",
   "execution_count": null,
   "id": "d6c9a406",
   "metadata": {},
   "outputs": [],
   "source": [
    "\n",
    "df_mode = handle_missing_values(df, 'mode')"
   ]
  },
  {
   "cell_type": "markdown",
   "id": "69cb5bb4",
   "metadata": {},
   "source": [
    "### Remove all values rows duplicates"
   ]
  },
  {
   "cell_type": "code",
   "execution_count": null,
   "id": "093801b0",
   "metadata": {},
   "outputs": [],
   "source": [
    "remove_duplicates(df) # Return \"Number of duplicates removed {}\""
   ]
  }
 ],
 "metadata": {
  "kernelspec": {
   "display_name": ".venv",
   "language": "python",
   "name": "python3"
  },
  "language_info": {
   "codemirror_mode": {
    "name": "ipython",
    "version": 3
   },
   "file_extension": ".py",
   "mimetype": "text/x-python",
   "name": "python",
   "nbconvert_exporter": "python",
   "pygments_lexer": "ipython3",
   "version": "3.13.6"
  }
 },
 "nbformat": 4,
 "nbformat_minor": 5
}
